{
 "cells": [
  {
   "cell_type": "code",
   "execution_count": 1,
   "id": "34eaa816",
   "metadata": {},
   "outputs": [],
   "source": [
    "import numpy as np \n",
    "import pandas as pd \n",
    "import pickle \n",
    "import glob\n",
    "from scipy import stats "
   ]
  },
  {
   "cell_type": "code",
   "execution_count": 2,
   "id": "5ea868db",
   "metadata": {},
   "outputs": [],
   "source": [
    "def organize_p_tests(res, alpha = 0.05):\n",
    "    # ipdb.set_trace()\n",
    "    version_pattern = r'v?_'\n",
    "    gamma_pattern = 'G_\\d+\\.\\d+'\n",
    "    res['version'] = res['exp'].apply(lambda x: re.split(version_pattern, x)[0])\n",
    "    res['param'] = res['exp'].apply(lambda x: re.findall(gamma_pattern, x)[0])\n",
    "    res = res.groupby('param').agg({'norm_diversity_p': list, 'perc_LT_p': list}).reset_index()\n",
    "    res['#tests'] = res['perc_LT_p'].apply(len)\n",
    "    res['significant'] = res[['#tests', 'perc_LT_p']].apply(lambda x: bonferoni_significant(x, 'perc_LT_p'), axis=1)\n",
    "\n",
    "    return res \n",
    "   \n",
    "def run_p_tests(df1, df2, metric):\n",
    "    stat, p_val = stats.ttest_ind(df1[metric].values, df2[metric].values)\n",
    "    return p_val\n",
    "\n",
    "def run_wilcox(df1, df2, metric): \n",
    "    stat, p_val = stats.wilcoxon(df1[metric].values, df2[metric].values)\n",
    "    return p_val\n",
    "\n"
   ]
  },
  {
   "cell_type": "code",
   "execution_count": 37,
   "id": "d565c109",
   "metadata": {},
   "outputs": [],
   "source": [
    "def run_t_test(dataset, gamma_r, gamma_b, mode): \n",
    "    prefix = f'/home/mila/r/rebecca.salganik/scratch/PinSAGE_experiments/FULL_RUNS/{dataset}/'\n",
    "    suffix = 'log10_popcat_fairness_breakdown_by_pid.pkl'\n",
    "    if mode == 'perf': \n",
    "        suffix = 'performance_breakdown_by_pid.pkl'\n",
    "    r_p = f'{prefix}REDRESS/v1_G_{gamma_r}_A_0.01_B_0.0/redress/{suffix}'\n",
    "    ps_p = f'{prefix}REDRESS/v1_G_{gamma_r}_A_0.01_B_0.0/utility/{suffix}'\n",
    "    b_p = f'{prefix}BOOST/boost2/v1_G_{gamma_b}_A_0.01/redress/{suffix}'\n",
    "   \n",
    "\n",
    "    r_df = pickle.load(open(r_p, \"rb\")).astype(float)\n",
    "    b_df = pickle.load(open(b_p, \"rb\")).astype(float)\n",
    "    ps_df = pickle.load(open(ps_p, \"rb\")).astype(float)\n",
    "    \n",
    "    metrics = [c for c in r_df.columns if 'pid' not in c]\n",
    "    \n",
    "    p_vals_redress_vs_ps = [float(run_p_tests(r_df, ps_df, m)) for m in metrics]\n",
    "    p_vals_boost_vs_ps = [float(run_p_tests(b_df, ps_df, m)) for m in metrics]\n",
    "    p_vals_boost_vs_redress = [float(run_p_tests(b_df, r_df, m)) for m in metrics]\n",
    "    \n",
    "\n",
    "    wil_redress_vs_ps = [float(run_wilcox(r_df, ps_df, m)) for m in metrics]\n",
    "    wil_boost_vs_ps = [float(run_wilcox(b_df, ps_df, m)) for m in metrics]\n",
    "    wil_boost_vs_redress = [float(run_wilcox(b_df, r_df, m)) for m in metrics]\n",
    "    \n",
    "    \n",
    "    t_test = pd.DataFrame(\n",
    "        [p_vals_redress_vs_ps, p_vals_boost_vs_ps, p_vals_boost_vs_redress], \n",
    "        columns=metrics, index=['redress_vs_ps', 'boost_vs_ps', 'boost_vs_redress'])\n",
    "\n",
    "    wilcox_test = pd.DataFrame(\n",
    "        [wil_redress_vs_ps, wil_boost_vs_ps, wil_boost_vs_redress], \n",
    "        columns=metrics, index=['redress_vs_ps', 'boost_vs_ps', 'boost_vs_redress']).astype(float)\n",
    "    \n",
    "    return t_test, wilcox_test\n",
    "\n"
   ]
  },
  {
   "cell_type": "code",
   "execution_count": 38,
   "id": "f782d32d",
   "metadata": {},
   "outputs": [
    {
     "data": {
      "text/html": [
       "<div>\n",
       "<style scoped>\n",
       "    .dataframe tbody tr th:only-of-type {\n",
       "        vertical-align: middle;\n",
       "    }\n",
       "\n",
       "    .dataframe tbody tr th {\n",
       "        vertical-align: top;\n",
       "    }\n",
       "\n",
       "    .dataframe thead th {\n",
       "        text-align: right;\n",
       "    }\n",
       "</style>\n",
       "<table border=\"1\" class=\"dataframe\">\n",
       "  <thead>\n",
       "    <tr style=\"text-align: right;\">\n",
       "      <th></th>\n",
       "      <th>r_precision</th>\n",
       "      <th>competition_ndcg</th>\n",
       "      <th>artist_prec</th>\n",
       "      <th>norm_diversity</th>\n",
       "      <th>sound_homogeneity</th>\n",
       "      <th>perc_LT</th>\n",
       "    </tr>\n",
       "  </thead>\n",
       "  <tbody>\n",
       "    <tr>\n",
       "      <th>redress_vs_ps</th>\n",
       "      <td>0.0</td>\n",
       "      <td>0.0</td>\n",
       "      <td>0.142</td>\n",
       "      <td>0.0</td>\n",
       "      <td>0.0</td>\n",
       "      <td>0.047</td>\n",
       "    </tr>\n",
       "    <tr>\n",
       "      <th>boost_vs_ps</th>\n",
       "      <td>0.0</td>\n",
       "      <td>0.0</td>\n",
       "      <td>0.258</td>\n",
       "      <td>0.0</td>\n",
       "      <td>0.0</td>\n",
       "      <td>0.000</td>\n",
       "    </tr>\n",
       "    <tr>\n",
       "      <th>boost_vs_redress</th>\n",
       "      <td>0.0</td>\n",
       "      <td>0.0</td>\n",
       "      <td>0.014</td>\n",
       "      <td>0.0</td>\n",
       "      <td>0.0</td>\n",
       "      <td>0.010</td>\n",
       "    </tr>\n",
       "  </tbody>\n",
       "</table>\n",
       "</div>"
      ],
      "text/plain": [
       "                  r_precision  competition_ndcg  artist_prec  norm_diversity  \\\n",
       "redress_vs_ps             0.0               0.0        0.142             0.0   \n",
       "boost_vs_ps               0.0               0.0        0.258             0.0   \n",
       "boost_vs_redress          0.0               0.0        0.014             0.0   \n",
       "\n",
       "                  sound_homogeneity  perc_LT  \n",
       "redress_vs_ps                   0.0    0.047  \n",
       "boost_vs_ps                     0.0    0.000  \n",
       "boost_vs_redress                0.0    0.010  "
      ]
     },
     "execution_count": 38,
     "metadata": {},
     "output_type": "execute_result"
    }
   ],
   "source": [
    "fair_t_df,fair_w_df =  run_t_test('MPD_Subset', '0.5', '0.6', 'fair')\n",
    "\n",
    "perf_t_df,perf_w_df = run_t_test('MPD_Subset', '0.5', '0.6', 'perf')\n",
    "\n",
    "t_df = perf_t_df.join(fair_t_df).apply(lambda x: np.round(x,3))\n",
    "w_df = perf_w_df.join(fair_w_df).apply(lambda x: np.round(x,3))\n",
    "\n",
    "\n",
    "w_df\n",
    "\n",
    "t_df"
   ]
  },
  {
   "cell_type": "code",
   "execution_count": null,
   "id": "d353aa38",
   "metadata": {},
   "outputs": [],
   "source": [
    "fair_t_df,fair_w_df =  run_t_test('LFM_Subset', '0.5', '0.6', 'fair')\n",
    "\n",
    "perf_t_df,perf_w_df = run_t_test('LFM_Subset', '0.5', '0.6', 'perf')\n",
    "\n",
    "t_df = perf_t_df.join(fair_t_df).apply(lambda x: np.round(x,3))\n",
    "w_df = perf_w_df.join(fair_w_df).apply(lambda x: np.round(x,3))\n",
    "\n",
    "\n",
    "w_df\n",
    "\n",
    "t_df"
   ]
  },
  {
   "cell_type": "code",
   "execution_count": null,
   "id": "0d48fd5b",
   "metadata": {},
   "outputs": [],
   "source": []
  },
  {
   "cell_type": "code",
   "execution_count": 4,
   "id": "08731909",
   "metadata": {},
   "outputs": [
    {
     "data": {
      "text/plain": [
       "0.00022418794101332552"
      ]
     },
     "execution_count": 4,
     "metadata": {},
     "output_type": "execute_result"
    }
   ],
   "source": [
    "r_df = pickle.load(open('/home/mila/r/rebecca.salganik/scratch/PinSAGE_experiments/FULL_RUNS/MPD_Subset/REDRESS/v1_G_0.5_A_0.01_B_0.0/redress/performance_breakdown_by_pid.pkl', \"rb\"))\n",
    "\n",
    "\n",
    "u_df = pickle.load(open('/home/mila/r/rebecca.salganik/scratch/PinSAGE_experiments/FULL_RUNS/MPD_Subset/REDRESS/v1_G_0.5_A_0.01_B_0.0/utility/performance_breakdown_by_pid.pkl', \"rb\"))\n",
    "\n",
    "\n",
    "metrics = [c for c in r_df.columns if 'pid' not in c]\n",
    "    \n",
    "    \n",
    "metrics\n",
    "\n",
    "run_p_tests(r_df , u_df, 'r_precision')"
   ]
  },
  {
   "cell_type": "code",
   "execution_count": 67,
   "id": "a72e09ae",
   "metadata": {},
   "outputs": [],
   "source": []
  },
  {
   "cell_type": "code",
   "execution_count": 29,
   "id": "ca162969",
   "metadata": {},
   "outputs": [
    {
     "data": {
      "text/plain": [
       "({'norm_diversity': 1.837483887741417e-12,\n",
       "  'sound_homogeneity': 4.4239484107527883e-42,\n",
       "  'perc_LT': 0.04716663283677639},\n",
       " {'norm_diversity': 3.5545136383311e-16,\n",
       "  'sound_homogeneity': 3.896559845095909e-18,\n",
       "  'perc_LT': 0.011941862160547106})"
      ]
     },
     "execution_count": 29,
     "metadata": {},
     "output_type": "execute_result"
    }
   ],
   "source": [
    "p_vals_redress_vs_ps, wil_redress_vs_ps\n",
    "\n"
   ]
  },
  {
   "cell_type": "code",
   "execution_count": 30,
   "id": "c869b1e5",
   "metadata": {},
   "outputs": [
    {
     "data": {
      "text/plain": [
       "({'norm_diversity': 1.1688164192143614e-29,\n",
       "  'sound_homogeneity': 3.75196119909342e-61,\n",
       "  'perc_LT': 0.0005955766843916751},\n",
       " {'norm_diversity': 8.283546347592774e-18,\n",
       "  'sound_homogeneity': 3.896559845095909e-18,\n",
       "  'perc_LT': 4.5139286517670825e-05})"
      ]
     },
     "execution_count": 30,
     "metadata": {},
     "output_type": "execute_result"
    }
   ],
   "source": [
    "p_vals_boost_vs_ps, wil_boost_vs_ps"
   ]
  },
  {
   "cell_type": "code",
   "execution_count": 31,
   "id": "45672359",
   "metadata": {},
   "outputs": [
    {
     "data": {
      "text/plain": [
       "({'norm_diversity': 8.243730183460495e-11,\n",
       "  'sound_homogeneity': 1.1263840419174975e-12,\n",
       "  'perc_LT': 0.19647656540206895},\n",
       " {'norm_diversity': 2.0534705827850006e-15,\n",
       "  'sound_homogeneity': 8.267798584515514e-18,\n",
       "  'perc_LT': 0.0045003864973730216})"
      ]
     },
     "execution_count": 31,
     "metadata": {},
     "output_type": "execute_result"
    }
   ],
   "source": [
    "p_vals_boost_vs_redress, wil_boost_vs_redress"
   ]
  },
  {
   "cell_type": "code",
   "execution_count": 40,
   "id": "e2f04372",
   "metadata": {},
   "outputs": [
    {
     "data": {
      "text/html": [
       "<div>\n",
       "<style scoped>\n",
       "    .dataframe tbody tr th:only-of-type {\n",
       "        vertical-align: middle;\n",
       "    }\n",
       "\n",
       "    .dataframe tbody tr th {\n",
       "        vertical-align: top;\n",
       "    }\n",
       "\n",
       "    .dataframe thead th {\n",
       "        text-align: right;\n",
       "    }\n",
       "</style>\n",
       "<table border=\"1\" class=\"dataframe\">\n",
       "  <thead>\n",
       "    <tr style=\"text-align: right;\">\n",
       "      <th></th>\n",
       "      <th>norm_diversity</th>\n",
       "      <th>sound_homogeneity</th>\n",
       "      <th>perc_LT</th>\n",
       "    </tr>\n",
       "  </thead>\n",
       "  <tbody>\n",
       "    <tr>\n",
       "      <th>boost vs redress</th>\n",
       "      <td>2.053471e-15</td>\n",
       "      <td>8.267799e-18</td>\n",
       "      <td>0.0045</td>\n",
       "    </tr>\n",
       "  </tbody>\n",
       "</table>\n",
       "</div>"
      ],
      "text/plain": [
       "                  norm_diversity  sound_homogeneity  perc_LT\n",
       "boost vs redress    2.053471e-15       8.267799e-18   0.0045"
      ]
     },
     "execution_count": 40,
     "metadata": {},
     "output_type": "execute_result"
    }
   ],
   "source": []
  },
  {
   "cell_type": "code",
   "execution_count": null,
   "id": "e653e26a",
   "metadata": {},
   "outputs": [],
   "source": []
  }
 ],
 "metadata": {
  "kernelspec": {
   "display_name": "dgl8.2",
   "language": "python",
   "name": "dgl8.2"
  },
  "language_info": {
   "codemirror_mode": {
    "name": "ipython",
    "version": 3
   },
   "file_extension": ".py",
   "mimetype": "text/x-python",
   "name": "python",
   "nbconvert_exporter": "python",
   "pygments_lexer": "ipython3",
   "version": "3.9.15"
  }
 },
 "nbformat": 4,
 "nbformat_minor": 5
}
